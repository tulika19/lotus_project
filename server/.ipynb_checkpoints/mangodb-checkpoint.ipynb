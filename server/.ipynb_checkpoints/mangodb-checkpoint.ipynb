{
 "cells": [
  {
   "cell_type": "code",
   "execution_count": null,
   "metadata": {},
   "outputs": [],
   "source": []
  },
  {
   "cell_type": "code",
   "execution_count": null,
   "metadata": {},
   "outputs": [],
   "source": [
    "const { MongoClient } = require('mongodb')\n",
    "let abConnection\n",
    "let uri = 'mongodb+srv://Tulika2023:<YsHW7I6JTeGMRf3g>@cluster0.guzjbni.mongodb.net/?retryWrites=true&w=majority'\n",
    "\n",
    "module.exports = {\n",
    "    connectToDb: (cb) => {\n",
    "        MongoClient.connect('mongodb://localhost:27017/bookstore\n",
    "            .then((client) => {\n",
    "                dbConnection = client.db() \n",
    "                return cb()\n",
    "            })\n",
    "            catch(err => {\n",
    "\n",
    "            console.log(err)\n",
    "            return cb(err)\n",
    "            })\n",
    "    },\n",
    "\n",
    "    getDb: () => dbConnection\n",
    "}"
   ]
  }
 ],
 "metadata": {
  "kernelspec": {
   "display_name": "Python 3",
   "language": "python",
   "name": "python3"
  },
  "language_info": {
   "codemirror_mode": {
    "name": "ipython",
    "version": 3
   },
   "file_extension": ".py",
   "mimetype": "text/x-python",
   "name": "python",
   "nbconvert_exporter": "python",
   "pygments_lexer": "ipython3",
   "version": "3.8.3"
  }
 },
 "nbformat": 4,
 "nbformat_minor": 4
}
